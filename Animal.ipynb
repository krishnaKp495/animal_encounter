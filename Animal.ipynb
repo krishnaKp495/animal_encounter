{
  "cells": [
    {
      "cell_type": "markdown",
      "metadata": {
        "id": "h_WtfrG44b2A"
      },
      "source": [
        "# Install tensorflow if not already done"
      ]
    },
    {
      "cell_type": "markdown",
      "metadata": {
        "id": "EHsRT6iN4niJ"
      },
      "source": [
        "# Import all the required modules"
      ]
    },
    {
      "cell_type": "code",
      "execution_count": null,
      "metadata": {
        "id": "Usd6fr4zwP-X"
      },
      "outputs": [],
      "source": [
        "import pandas as pd\n",
        "import tensorflow as tf\n",
        "from tensorflow.keras.models import Sequential\n",
        "from tensorflow.keras.layers import Dense\n",
        "from tensorflow.keras.optimizers import Adam\n",
        "from sklearn.preprocessing import StandardScaler\n",
        "from sklearn.model_selection import train_test_split\n",
        "import numpy as np\n",
        "from tensorflow.keras.layers import Dropout, Input\n",
        "from sklearn.metrics import accuracy_score"
      ]
    },
    {
      "cell_type": "markdown",
      "metadata": {
        "id": "IWBCCxpn4vMh"
      },
      "source": [
        "# Read the csv file"
      ]
    },
    {
      "cell_type": "code",
      "execution_count": null,
      "metadata": {
        "id": "-UJcorzOwS0g"
      },
      "outputs": [],
      "source": [
        "df = pd.read_csv(\"animals.csv\")"
      ]
    },
    {
      "cell_type": "code",
      "execution_count": null,
      "metadata": {
        "id": "SZiqNNmXwYsy"
      },
      "outputs": [],
      "source": [
        "print(df.head(1))"
      ]
    },
    {
      "cell_type": "markdown",
      "metadata": {
        "id": "IbLiCz3B44NQ"
      },
      "source": [
        "# Drop the \"winner\" column and save it as y"
      ]
    },
    {
      "cell_type": "code",
      "execution_count": null,
      "metadata": {
        "id": "wl_rL0HHwfWR"
      },
      "outputs": [],
      "source": [
        "x = df.drop(columns= 'winner', axis = 1)   # Drop the \"winner\" column\n",
        "x = x.dropna(axis=1, how ='all')           # Drop the column with all NA\n",
        "y = df['winner']                           # Save the column as y"
      ]
    },
    {
      "cell_type": "code",
      "execution_count": null,
      "metadata": {
        "id": "QvTlM5LuxoCQ"
      },
      "outputs": [],
      "source": [
        "x.shape"
      ]
    },
    {
      "cell_type": "markdown",
      "metadata": {
        "id": "Ydni8MUX5itw"
      },
      "source": [
        "# Data standardisation"
      ]
    },
    {
      "cell_type": "code",
      "execution_count": null,
      "metadata": {
        "id": "MyuCaOzix8Av"
      },
      "outputs": [],
      "source": [
        "scaler = StandardScaler()"
      ]
    },
    {
      "cell_type": "code",
      "execution_count": null,
      "metadata": {
        "id": "DSfSVucwyf4u"
      },
      "outputs": [],
      "source": [
        "scaler.fit(x)"
      ]
    },
    {
      "cell_type": "code",
      "execution_count": null,
      "metadata": {
        "id": "6uxrkDsVylFY"
      },
      "outputs": [],
      "source": [
        "standard_data = scaler.transform(x)\n",
        "print(standard_data)"
      ]
    },
    {
      "cell_type": "code",
      "execution_count": null,
      "metadata": {
        "id": "AnDi_XvfzFr4"
      },
      "outputs": [],
      "source": [
        "x = standard_data"
      ]
    },
    {
      "cell_type": "markdown",
      "metadata": {
        "id": "sWB6D1GB5zcL"
      },
      "source": [
        "# Train, Test, Split"
      ]
    },
    {
      "cell_type": "code",
      "execution_count": null,
      "metadata": {
        "id": "LjIZB-OAzM-v"
      },
      "outputs": [],
      "source": [
        "# test size means fraction of test\n",
        "# stratify ensures that for y i.e the outcome both 0 and 1 occur in equal proportion in both test and train\n",
        "# random state to ensure reproducibilty\n",
        "\n",
        "x_train, x_test, y_train, y_test = train_test_split( x, y, test_size = 0.2, stratify = y, random_state = 42)"
      ]
    },
    {
      "cell_type": "code",
      "execution_count": null,
      "metadata": {
        "id": "m3le5scGzU--"
      },
      "outputs": [],
      "source": [
        "print(x.shape, x_train.shape, x_test.shape)"
      ]
    },
    {
      "cell_type": "markdown",
      "metadata": {
        "id": "slOgKO-LzoCH"
      },
      "source": [
        "# Training the model using neural network"
      ]
    },
    {
      "cell_type": "code",
      "execution_count": null,
      "metadata": {
        "id": "l-1TUSoszjI3"
      },
      "outputs": [],
      "source": [
        "# Set random seed for reproducibility\n",
        "np.random.seed(42)  # For numpy-related random processes\n",
        "tf.random.set_seed(42)  # For TensorFlow-related random processes\n",
        "\n",
        "\n",
        "model = Sequential()\n",
        "model.add(Input(shape=(x_train.shape[1],)))\n",
        "model.add(Dropout(0.5))  # Dropout layer for uncertainty\n",
        "model.add(Dense(32, activation='relu'))\n",
        "model.add(Dropout(0.5))  # Dropout layer for uncertainty\n",
        "model.add(Dense(2, activation='softmax'))\n",
        "\n",
        "model.compile(optimizer=Adam(), loss='sparse_categorical_crossentropy', metrics=['accuracy'])\n",
        "\n",
        "# Train the model\n",
        "model.fit(x_train, y_train, epochs=100, batch_size=32, verbose=1)\n",
        "\n",
        "# Function to predict with Monte Carlo Dropout\n",
        "def mc_predict(model, x_test, num_samples=100):\n",
        "    preds = [model(x_test, training=True) for _ in range(num_samples)]\n",
        "    return np.mean(preds, axis=0), np.std(preds, axis=0)  # Mean and standard deviation\n",
        "\n",
        "# Predict probabilities and uncertainty\n",
        "y_prob_mean, y_prob_std = mc_predict(model, x_test)\n",
        "\n",
        "print(\"Predicted Probabilities:\", y_prob_mean)\n",
        "print(\"Uncertainty (Std Dev):\", y_prob_std)\n"
      ]
    },
    {
      "cell_type": "markdown",
      "metadata": {
        "id": "iiidfocO6BrX"
      },
      "source": [
        "# Evaluation of model"
      ]
    },
    {
      "cell_type": "code",
      "execution_count": null,
      "metadata": {
        "id": "dgqk24Rz0BBR"
      },
      "outputs": [],
      "source": [
        "test_loss, test_accuracy = model.evaluate(x_test, y_test, verbose=1)\n",
        "\n",
        "# Print the accuracy\n",
        "print(f\"Test Accuracy: {test_accuracy * 100:.2f}%\")"
      ]
    },
    {
      "cell_type": "markdown",
      "metadata": {
        "id": "HSOvD4GR6Hy-"
      },
      "source": [
        "# Making a predictive system"
      ]
    },
    {
      "cell_type": "code",
      "execution_count": null,
      "metadata": {
        "id": "FTEueYI_1YF1"
      },
      "outputs": [],
      "source": [
        "def animalvs(input_data):\n",
        "\n",
        "\n",
        "    # changing the input data to numpy array\n",
        "\n",
        "    input_data_as_numpy = np.asarray(input_data)\n",
        "\n",
        "    # reshape the array as we are predicting for one instance\n",
        "\n",
        "    input_data_reshaped = input_data_as_numpy.reshape(1,-1)\n",
        "\n",
        "    # standardize the array\n",
        "\n",
        "    std_data = scaler.transform(input_data_reshaped)\n",
        "    prediction = model.predict(std_data)\n",
        "    print(prediction[0])\n",
        "\n",
        "    if (prediction[0][0]==0.5):\n",
        "      print(\" it is a tie\")\n",
        "    elif(prediction[0][0]>0.5):\n",
        "      print(f\" there is  a {prediction[0][0]*100:.2f} % chance that the first animal will win \")\n",
        "    else:\n",
        "      print(f\" there is  a {prediction[0][1] *100:.2f} % chance that the second animal will win \")\n",
        "\n",
        "\n"
      ]
    },
    {
      "cell_type": "markdown",
      "metadata": {
        "id": "rjSmjsVH6Rg0"
      },
      "source": [
        "# Evaluation with data"
      ]
    },
    {
      "cell_type": "code",
      "execution_count": null,
      "metadata": {
        "id": "dcqiixTk2r8d"
      },
      "outputs": [],
      "source": [
        "# walrus vs nile crocodile : the winner is nile crocodile\n",
        "\n",
        "input_data = (1200, 4.5, 35, 6.5, 200, 40, 8, 9, 7,\t500, 4.5, 35, 9.5, 4400, 50, 9, 7.5, 8)\n",
        "animalvs(input_data)"
      ]
    },
    {
      "cell_type": "code",
      "execution_count": null,
      "metadata": {
        "id": "H1K7QptH2wS5"
      },
      "outputs": [],
      "source": [
        "# polar bear vs nile crocodile : the winner is polar bear\n",
        "\n",
        "input_data =(550,5.5,40,8.5,1200,50,8,9.5,9.5,500,4.5,35,9.5,4400,50,9,7.5,8)\n",
        "animalvs(input_data)"
      ]
    },
    {
      "cell_type": "code",
      "source": [
        "# african lion vs bengal tiger : the winner is bengal tiger\n",
        "\n",
        "input_data =(190,6.5,58,9,650,12,6,4.5,7.5,230,6,65,8.5,1050,13,7,4.5,8)\n",
        "animalvs(input_data)"
      ],
      "metadata": {
        "id": "fKvl3Nsi1MdM"
      },
      "execution_count": null,
      "outputs": []
    },
    {
      "cell_type": "code",
      "source": [
        "# rhino vs hippo : the winner is rhino\n",
        "\n",
        "input_data = (2100,4.5,50,6.5,1100,50,9.5,7.5,8.5,1400,4.5,30,10,1900,50,9.5,7,9)\n",
        "animalvs(input_data)"
      ],
      "metadata": {
        "id": "qj6Qa61n2EgN"
      },
      "execution_count": null,
      "outputs": []
    },
    {
      "cell_type": "markdown",
      "source": [
        "#Training using KNeighbour CLassifier"
      ],
      "metadata": {
        "id": "VXXBlTmyg76q"
      }
    },
    {
      "cell_type": "code",
      "source": [
        "from sklearn.neighbors import KNeighborsClassifier"
      ],
      "metadata": {
        "id": "_8suLQtEf3sv"
      },
      "execution_count": null,
      "outputs": []
    },
    {
      "cell_type": "markdown",
      "source": [],
      "metadata": {
        "id": "Abc9uE3oioTr"
      }
    },
    {
      "cell_type": "code",
      "source": [
        "knn = KNeighborsClassifier(n_neighbors=5)\n",
        "knn.fit(x_train, y_train)\n",
        "y_pred_knn = knn.predict(x_test)\n",
        "print(f\"KNN Accuracy: {accuracy_score(y_test, y_pred_knn)}\")"
      ],
      "metadata": {
        "id": "fjvqnDt821rd"
      },
      "execution_count": null,
      "outputs": []
    },
    {
      "cell_type": "markdown",
      "source": [
        "#Making predictive system for KNN model"
      ],
      "metadata": {
        "id": "GVkm4HT1gw0s"
      }
    },
    {
      "cell_type": "code",
      "source": [
        "def animal(input_data):\n",
        "\n",
        "\n",
        "    # changing the input data to numpy array\n",
        "\n",
        "    input_data_as_numpy = np.asarray(input_data)\n",
        "\n",
        "    # reshape the array as we are predicting for one instance\n",
        "\n",
        "    input_data_reshaped = input_data_as_numpy.reshape(1,-1)\n",
        "\n",
        "    # standardize the array\n",
        "\n",
        "    std_data = scaler.transform(input_data_reshaped)\n",
        "    prediction = model.predict(std_data)\n",
        "    print(prediction[0])\n",
        "\n",
        "    if (prediction[0][0]==0.5):\n",
        "      print(\" it is a tie\")\n",
        "    elif(prediction[0][0]>0.5):\n",
        "      print(f\" there is  a {prediction[0][0]*100:.2f} % chance that the first animal will win \")\n",
        "    else:\n",
        "      print(f\" there is  a {prediction[0][1] *100:.2f} % chance that the second animal will win \")\n",
        "\n",
        "\n"
      ],
      "metadata": {
        "id": "romk44ZMgC8j"
      },
      "execution_count": null,
      "outputs": []
    },
    {
      "cell_type": "code",
      "source": [
        "# rhino vs hippo : the winner is rhino\n",
        "\n",
        "input_data = (2100,4.5,50,6.5,1100,50,9.5,7.5,8.5,1400,4.5,30,10,1900,50,9.5,7,9)\n",
        "animal(input_data)"
      ],
      "metadata": {
        "id": "EdvNTFpggrOG"
      },
      "execution_count": null,
      "outputs": []
    },
    {
      "cell_type": "code",
      "source": [
        "# african lion vs bengal tiger : the winner is bengal tiger\n",
        "\n",
        "input_data =(190,6.5,58,9,650,12,6,4.5,7.5,230,6,65,8.5,1050,13,7,4.5,8)\n",
        "animal(input_data)"
      ],
      "metadata": {
        "id": "6iCTls7mgtYE"
      },
      "execution_count": null,
      "outputs": []
    },
    {
      "cell_type": "code",
      "source": [
        "# walrus vs nile crocodile : the winner is nile crocodile\n",
        "\n",
        "input_data = (1200, 4.5, 35, 6.5, 200, 40, 8, 9, 7,\t500, 4.5, 35, 9.5, 4400, 50, 9, 7.5, 8)\n",
        "animal(input_data)"
      ],
      "metadata": {
        "id": "fWMM741ChQTW"
      },
      "execution_count": null,
      "outputs": []
    },
    {
      "cell_type": "code",
      "source": [],
      "metadata": {
        "id": "xViKe4IJhYc9"
      },
      "execution_count": null,
      "outputs": []
    }
  ],
  "metadata": {
    "colab": {
      "provenance": []
    },
    "kernelspec": {
      "display_name": "Python 3",
      "name": "python3"
    },
    "language_info": {
      "name": "python"
    }
  },
  "nbformat": 4,
  "nbformat_minor": 0
}